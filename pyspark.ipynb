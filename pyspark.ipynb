{
  "nbformat": 4,
  "nbformat_minor": 0,
  "metadata": {
    "colab": {
      "provenance": []
    },
    "kernelspec": {
      "name": "python3",
      "display_name": "Python 3"
    },
    "language_info": {
      "name": "python"
    }
  },
  "cells": [
    {
      "cell_type": "markdown",
      "source": [
        "# LEARNING PYSPARK"
      ],
      "metadata": {
        "id": "7R6TiX4kd9jO"
      }
    },
    {
      "cell_type": "markdown",
      "source": [
        "#  Apache Spark, Spark & PySpark\n",
        "\n",
        "**Apache Spark**\n",
        "An open-source distributed computing system for fast, large-scale data processing across multiple machines.\n",
        "\n",
        "**Spark**\n",
        "The core engine of Apache Spark that handles data processing, transformations, and analytics efficiently.\n",
        "\n",
        "**PySpark**\n",
        "The Python API for Spark, enabling you to write Spark applications in Python.\n",
        "\n",
        "Work with DataFrames, SQL, machine learning, and streaming\n",
        "\n",
        "Perform distributed data processing like Pandas but on big data\n",
        "\n",
        "***Why use it?***\n",
        "\n",
        "Process datasets larger than memory\n",
        "\n",
        "Build data pipelines, analytics, and ML workflows\n",
        "\n",
        "Combine speed, scalability, and simplicity"
      ],
      "metadata": {
        "id": "7maH3_P1pCyx"
      }
    },
    {
      "cell_type": "markdown",
      "source": [
        "1. `INSTALL AND INITIALIZE PYSPARK`"
      ],
      "metadata": {
        "id": "14vsvA4LgSW9"
      }
    },
    {
      "cell_type": "code",
      "execution_count": null,
      "metadata": {
        "colab": {
          "base_uri": "https://localhost:8080/"
        },
        "id": "Gp4YjyyLIyqA",
        "outputId": "88db2e52-4527-4637-d19f-bd2a0cabf2ec"
      },
      "outputs": [
        {
          "output_type": "stream",
          "name": "stdout",
          "text": [
            "Requirement already satisfied: pyspark in /usr/local/lib/python3.12/dist-packages (3.5.1)\n",
            "Requirement already satisfied: py4j==0.10.9.7 in /usr/local/lib/python3.12/dist-packages (from pyspark) (0.10.9.7)\n"
          ]
        }
      ],
      "source": [
        "!pip install pyspark"
      ]
    },
    {
      "cell_type": "markdown",
      "source": [
        "**1. SparkSession**\n",
        "\n",
        "The entry point to use Apache Spark in PySpark.\n",
        "\n",
        "It connects your Python code with the Spark engine running in the background.\n",
        "\n",
        "You need it to create DataFrames, read data files, and run SQL or transformations.\n",
        "\n",
        "\n",
        "**2. pyspark.sql**\n",
        "\n",
        "A module inside PySpark used for working with structured data (rows + columns).\n",
        "\n",
        "It contains:\n",
        "\n",
        "SparkSession → to start Spark\n",
        "\n",
        "functions → ready-made SQL-style functions (col, when, count, etc.)\n",
        "\n",
        "types → to define column data types and schemas.\n",
        "\n",
        "Basically, it lets you treat big data like a database table and use SQL-like operations in Python.\n",
        "\n",
        "\n",
        "**3. Spark**\n",
        "\n",
        "Short for Apache Spark, a distributed data-processing framework that can handle very large datasets by splitting the work across multiple machines.\n",
        "\n",
        "PySpark is the Python interface to interact with that system.\n",
        "\n",
        "Spark takes your code, optimizes it, and runs it in parallel on many machines if available.\n",
        "\n",
        "Even in Colab, it simulates that environment locally."
      ],
      "metadata": {
        "id": "AlQwsLNWerOC"
      }
    },
    {
      "cell_type": "code",
      "source": [
        "# Import required libraries\n",
        "from pyspark.sql import SparkSession\n",
        "from pyspark.sql.functions import *\n",
        "from pyspark.sql.types import *\n",
        "\n",
        "# Create a Spark session\n",
        "spark = SparkSession.builder \\\n",
        "    .appName(\"PySpark_Intern_Practice\") \\\n",
        "    .getOrCreate()\n",
        "\n",
        "# Check Spark version\n",
        "print(\"Spark Version:\", spark.version)"
      ],
      "metadata": {
        "colab": {
          "base_uri": "https://localhost:8080/"
        },
        "id": "hNnqbLk-JaaV",
        "outputId": "36336bb3-092d-43af-8bb5-3e4f70cfa60b"
      },
      "execution_count": 3,
      "outputs": [
        {
          "output_type": "stream",
          "name": "stdout",
          "text": [
            "Spark Version: 3.5.1\n"
          ]
        }
      ]
    },
    {
      "cell_type": "markdown",
      "source": [
        "`2. CREATE A SAMPLE DATASET`"
      ],
      "metadata": {
        "id": "Dsy3uly-fntl"
      }
    },
    {
      "cell_type": "code",
      "source": [
        "# Sample in-memory data\n",
        "data = [\n",
        "    (1, \"Alice\", 28, \"Data Engineer\", 85000),\n",
        "    (2, \"Bob\", 35, \"Data Scientist\", 125000),\n",
        "    (3, \"Cathy\", 29, \"Data Analyst\", 72000),\n",
        "    (4, \"David\", 42, \"Manager\", 150000),\n",
        "    (5, \"Evelyn\", 30, \"ML Engineer\", 115000)\n",
        "]\n",
        "\n",
        "#Define schema\n",
        "schema=StructType([\n",
        "    StructField(\"id\",IntegerType(),True),\n",
        "    StructField(\"name\",StringType(),True),\n",
        "    StructField(\"age\",IntegerType(),True),\n",
        "    StructField(\"role\",StringType(),True),\n",
        "    StructField(\"salary\",IntegerType(),True)\n",
        "])\n",
        "\n",
        "#creating dataframe\n",
        "df=spark.createDataFrame(data,schema=schema)\n",
        "df.show()"
      ],
      "metadata": {
        "colab": {
          "base_uri": "https://localhost:8080/"
        },
        "id": "m6nXOUrTK5AW",
        "outputId": "d924b538-8984-46c3-bbee-bd283ebfa78f"
      },
      "execution_count": 4,
      "outputs": [
        {
          "output_type": "stream",
          "name": "stdout",
          "text": [
            "+---+------+---+--------------+------+\n",
            "| id|  name|age|          role|salary|\n",
            "+---+------+---+--------------+------+\n",
            "|  1| Alice| 28| Data Engineer| 85000|\n",
            "|  2|   Bob| 35|Data Scientist|125000|\n",
            "|  3| Cathy| 29|  Data Analyst| 72000|\n",
            "|  4| David| 42|       Manager|150000|\n",
            "|  5|Evelyn| 30|   ML Engineer|115000|\n",
            "+---+------+---+--------------+------+\n",
            "\n"
          ]
        }
      ]
    },
    {
      "cell_type": "markdown",
      "source": [
        "`3. BASIC DATAFRAME OPERATIONS`"
      ],
      "metadata": {
        "id": "NgfZMGUzh5ye"
      }
    },
    {
      "cell_type": "markdown",
      "source": [
        "Schema is the blueprint of the database.\n",
        "\n",
        "root shows the starting point of the schema, and the column header order follows;\n",
        "\n",
        "nullable = true states that these particular columns are allowed to contain null values."
      ],
      "metadata": {
        "id": "i8OSzmy0Tt4Z"
      }
    },
    {
      "cell_type": "code",
      "source": [
        "#Print Schema\n",
        "df.printSchema()"
      ],
      "metadata": {
        "id": "qbxDcZDkiHuN",
        "colab": {
          "base_uri": "https://localhost:8080/"
        },
        "outputId": "ae4e991f-b2c8-43e6-ab93-a5c4cf764ad4"
      },
      "execution_count": 5,
      "outputs": [
        {
          "output_type": "stream",
          "name": "stdout",
          "text": [
            "root\n",
            " |-- id: integer (nullable = true)\n",
            " |-- name: string (nullable = true)\n",
            " |-- age: integer (nullable = true)\n",
            " |-- role: string (nullable = true)\n",
            " |-- salary: integer (nullable = true)\n",
            "\n"
          ]
        }
      ]
    },
    {
      "cell_type": "code",
      "source": [
        "#select specific columns\n",
        "df.select(\"name\",\"salary\").show() #show() diplays first 20 rows by default for spark df"
      ],
      "metadata": {
        "colab": {
          "base_uri": "https://localhost:8080/"
        },
        "id": "6pXcOlY8UzE-",
        "outputId": "c6a66975-5f0f-4bb3-fed6-8d678f529b49"
      },
      "execution_count": 7,
      "outputs": [
        {
          "output_type": "stream",
          "name": "stdout",
          "text": [
            "+------+------+\n",
            "|  name|salary|\n",
            "+------+------+\n",
            "| Alice| 85000|\n",
            "|   Bob|125000|\n",
            "| Cathy| 72000|\n",
            "| David|150000|\n",
            "|Evelyn|115000|\n",
            "+------+------+\n",
            "\n"
          ]
        }
      ]
    },
    {
      "cell_type": "code",
      "source": [
        "#filter data\n",
        "df.filter(df.age>30).show()"
      ],
      "metadata": {
        "colab": {
          "base_uri": "https://localhost:8080/"
        },
        "id": "WvztuK-sVcNz",
        "outputId": "08fba71e-eff4-4feb-c2c8-cb4f42c1f61e"
      },
      "execution_count": 8,
      "outputs": [
        {
          "output_type": "stream",
          "name": "stdout",
          "text": [
            "+---+-----+---+--------------+------+\n",
            "| id| name|age|          role|salary|\n",
            "+---+-----+---+--------------+------+\n",
            "|  2|  Bob| 35|Data Scientist|125000|\n",
            "|  4|David| 42|       Manager|150000|\n",
            "+---+-----+---+--------------+------+\n",
            "\n"
          ]
        }
      ]
    },
    {
      "cell_type": "code",
      "source": [
        "#adds a new column\n",
        "df=df.withColumn(\"bonus\",df.salary * 0.1) #withColumn is not run automatically, but plan is created"
      ],
      "metadata": {
        "id": "Lc0_vac5Vp2l"
      },
      "execution_count": 10,
      "outputs": []
    },
    {
      "cell_type": "markdown",
      "source": [
        "**df = df.withColumn(\"bonus\", df.salary * 0.1 explanation.**\n",
        "\n",
        "\n",
        "\n",
        "df.salary*0.1 creates a column object that is not yet attatched to df yet.\n",
        "\n",
        "withColumn adds a new col or udate an existing col.\n",
        "\n",
        "bonus is the new column name given.\n",
        "\n"
      ],
      "metadata": {
        "id": "wok8HQpOOFO6"
      }
    },
    {
      "cell_type": "markdown",
      "source": [
        "***Spark does lazy optimization.***\n",
        "\n",
        "\n",
        "\n",
        "in this case, it is done in  df=df.withColumn('bonus',df.salary*0.1) step .\n",
        "\n",
        " Since DATAFRAMES ARE IMMUTABLE , df.salary*0.1(column object) is created instead of a column(salary*0.1).\n",
        "\n",
        "here, adding a new column doesn't also require copying the original df to memory inorder to add it to new df;(therefore memory is optimized).\n",
        "\n",
        "instead, it just plans on what to do and only executes plan when asked ;for eg: df.show()\n",
        "\n",
        "\n",
        "\n"
      ],
      "metadata": {
        "id": "Hfewef4rOsXt"
      }
    },
    {
      "cell_type": "code",
      "source": [
        "df.show() # only now,plan is executed by adding column + reading from the old df for old values"
      ],
      "metadata": {
        "colab": {
          "base_uri": "https://localhost:8080/"
        },
        "id": "NshxYSW0Skmz",
        "outputId": "40da55a7-7c80-4762-cfd1-d1211e49d650"
      },
      "execution_count": 12,
      "outputs": [
        {
          "output_type": "stream",
          "name": "stdout",
          "text": [
            "+---+------+---+--------------+------+-------+\n",
            "| id|  name|age|          role|salary|  bonus|\n",
            "+---+------+---+--------------+------+-------+\n",
            "|  1| Alice| 28| Data Engineer| 85000| 8500.0|\n",
            "|  2|   Bob| 35|Data Scientist|125000|12500.0|\n",
            "|  3| Cathy| 29|  Data Analyst| 72000| 7200.0|\n",
            "|  4| David| 42|       Manager|150000|15000.0|\n",
            "|  5|Evelyn| 30|   ML Engineer|115000|11500.0|\n",
            "+---+------+---+--------------+------+-------+\n",
            "\n"
          ]
        }
      ]
    },
    {
      "cell_type": "code",
      "source": [
        "#drop column\n",
        "df=df.drop(\"bonus\")"
      ],
      "metadata": {
        "id": "mEjgguD0V_Ub"
      },
      "execution_count": 19,
      "outputs": []
    },
    {
      "cell_type": "code",
      "source": [
        "df.show()"
      ],
      "metadata": {
        "colab": {
          "base_uri": "https://localhost:8080/"
        },
        "id": "w3SrR4ctWdV2",
        "outputId": "ec4083cc-12fc-4f91-8625-9c57119fc51e"
      },
      "execution_count": 17,
      "outputs": [
        {
          "output_type": "stream",
          "name": "stdout",
          "text": [
            "+---+------+---+--------------+------+\n",
            "| id|  name|age|          role|salary|\n",
            "+---+------+---+--------------+------+\n",
            "|  1| Alice| 28| Data Engineer| 85000|\n",
            "|  2|   Bob| 35|Data Scientist|125000|\n",
            "|  3| Cathy| 29|  Data Analyst| 72000|\n",
            "|  4| David| 42|       Manager|150000|\n",
            "|  5|Evelyn| 30|   ML Engineer|115000|\n",
            "+---+------+---+--------------+------+\n",
            "\n"
          ]
        }
      ]
    },
    {
      "cell_type": "markdown",
      "source": [
        "`4. AGGREGATIONS & GROUPING`"
      ],
      "metadata": {
        "id": "U3NQXy8mW1Wk"
      }
    },
    {
      "cell_type": "code",
      "source": [
        "#groups role and takes avg salary by role, since all roles are unique, no significant grouping is done, hence each rows avg salary is taken\n",
        "df.groupBy(\"role\").agg(avg(\"salary\").alias(\"avg_salary\")).show()\n",
        "\n"
      ],
      "metadata": {
        "colab": {
          "base_uri": "https://localhost:8080/"
        },
        "id": "rTh08n8MWjL2",
        "outputId": "e25f54e0-8d29-4277-d9d0-1a6760c5a431"
      },
      "execution_count": 21,
      "outputs": [
        {
          "output_type": "stream",
          "name": "stdout",
          "text": [
            "+--------------+----------+\n",
            "|          role|avg_salary|\n",
            "+--------------+----------+\n",
            "|Data Scientist|  125000.0|\n",
            "| Data Engineer|   85000.0|\n",
            "|  Data Analyst|   72000.0|\n",
            "|   ML Engineer|  115000.0|\n",
            "|       Manager|  150000.0|\n",
            "+--------------+----------+\n",
            "\n"
          ]
        }
      ]
    },
    {
      "cell_type": "code",
      "source": [
        "#max and min values\n",
        "df.select(max(\"salary\").alias(\"max_salary \"),min(\"salary\").alias(\"min_salary\")).show()"
      ],
      "metadata": {
        "colab": {
          "base_uri": "https://localhost:8080/"
        },
        "id": "tC-BwPraXT8v",
        "outputId": "f5e30c69-2c63-434a-ee15-e86d4d616900"
      },
      "execution_count": 23,
      "outputs": [
        {
          "output_type": "stream",
          "name": "stdout",
          "text": [
            "+-----------+----------+\n",
            "|max_salary |min_salary|\n",
            "+-----------+----------+\n",
            "|     150000|     72000|\n",
            "+-----------+----------+\n",
            "\n"
          ]
        }
      ]
    },
    {
      "cell_type": "code",
      "source": [
        "#count by role\n",
        "df.groupby(\"role\").count().show()"
      ],
      "metadata": {
        "colab": {
          "base_uri": "https://localhost:8080/"
        },
        "id": "puZuzWYmZsFo",
        "outputId": "ebb0f30d-702f-4dbd-8d3e-f0255e97231b"
      },
      "execution_count": 24,
      "outputs": [
        {
          "output_type": "stream",
          "name": "stdout",
          "text": [
            "+--------------+-----+\n",
            "|          role|count|\n",
            "+--------------+-----+\n",
            "|Data Scientist|    1|\n",
            "| Data Engineer|    1|\n",
            "|  Data Analyst|    1|\n",
            "|   ML Engineer|    1|\n",
            "|       Manager|    1|\n",
            "+--------------+-----+\n",
            "\n"
          ]
        }
      ]
    },
    {
      "cell_type": "markdown",
      "source": [
        "`5. SQL OPERATIONS(REGISTERING TEMP VIEWS)`"
      ],
      "metadata": {
        "id": "Xhvp0onKaAV0"
      }
    },
    {
      "cell_type": "markdown",
      "source": [
        "here, in df.createOrReplaceTempView(\"employees\") , a temp database table is created so that spark can run SQL queries in it."
      ],
      "metadata": {
        "id": "q3quIlspbukk"
      }
    },
    {
      "cell_type": "code",
      "source": [
        "#register df as SQL temporary view\n",
        "df.createOrReplaceTempView(\"employees\") #employees is the temp table name"
      ],
      "metadata": {
        "id": "GjUhtQ7sZ-Gh"
      },
      "execution_count": 26,
      "outputs": []
    },
    {
      "cell_type": "code",
      "source": [
        "#run SQL queries\n",
        "spark.sql(\"SELECT name,role,salary FROM employees WHERE salary>100000\").show()\n",
        "spark.sql(\"SELECT role, COUNT(*) AS total_people FROM employees GROUP BY role\").show()"
      ],
      "metadata": {
        "colab": {
          "base_uri": "https://localhost:8080/"
        },
        "id": "fyvrGOCdaqhi",
        "outputId": "8ad57dff-5b6c-4efe-da11-9166f770158f"
      },
      "execution_count": 27,
      "outputs": [
        {
          "output_type": "stream",
          "name": "stdout",
          "text": [
            "+------+--------------+------+\n",
            "|  name|          role|salary|\n",
            "+------+--------------+------+\n",
            "|   Bob|Data Scientist|125000|\n",
            "| David|       Manager|150000|\n",
            "|Evelyn|   ML Engineer|115000|\n",
            "+------+--------------+------+\n",
            "\n",
            "+--------------+------------+\n",
            "|          role|total_people|\n",
            "+--------------+------------+\n",
            "|Data Scientist|           1|\n",
            "| Data Engineer|           1|\n",
            "|  Data Analyst|           1|\n",
            "|   ML Engineer|           1|\n",
            "|       Manager|           1|\n",
            "+--------------+------------+\n",
            "\n"
          ]
        }
      ]
    },
    {
      "cell_type": "markdown",
      "source": [
        "`6. READING/WRITING DATA (SIMULATING ETL TASKS)`"
      ],
      "metadata": {
        "id": "KZ7-lX8Kcef3"
      }
    },
    {
      "cell_type": "markdown",
      "source": [
        "/content-(directory); is colab's local storage"
      ],
      "metadata": {
        "id": "JbKQq8bffe15"
      }
    },
    {
      "cell_type": "code",
      "source": [
        "#write to csv\n",
        "df.write.mode(\"overwrite\").csv(\"/content/employees_csv\")"
      ],
      "metadata": {
        "id": "b55JuL4kcYbk"
      },
      "execution_count": 33,
      "outputs": []
    },
    {
      "cell_type": "markdown",
      "source": [
        "header=True → treats first row as column header names\n",
        "\n",
        "inferSchema=True → Automatically detect column types\n",
        "\n",
        "> Add blockquote\n",
        "\n"
      ],
      "metadata": {
        "id": "6BsQyy45h5V8"
      }
    },
    {
      "cell_type": "code",
      "source": [
        "#read back from csv\n",
        "df_csv = spark.read.csv(\"/content/employees_csv\", header=True, inferSchema=True)\n"
      ],
      "metadata": {
        "id": "Y4AgO4vTfzUM"
      },
      "execution_count": 38,
      "outputs": []
    },
    {
      "cell_type": "markdown",
      "source": [
        "here, headers got error because of the header=True; if csv was written by pyspark without a proper header , manually define it."
      ],
      "metadata": {
        "id": "qJm5hNZ-jZh4"
      }
    },
    {
      "cell_type": "code",
      "source": [
        "df_csv.show()"
      ],
      "metadata": {
        "colab": {
          "base_uri": "https://localhost:8080/"
        },
        "id": "NFrHxBPeiaRc",
        "outputId": "207ac372-3405-4bb6-9cd1-ab5042cd06c8"
      },
      "execution_count": 39,
      "outputs": [
        {
          "output_type": "stream",
          "name": "stdout",
          "text": [
            "+---+------+---+--------------+------+\n",
            "|  3| Cathy| 29|  Data Analyst| 72000|\n",
            "+---+------+---+--------------+------+\n",
            "|  4| David| 42|       Manager|150000|\n",
            "|  5|Evelyn| 30|   ML Engineer|115000|\n",
            "|  2|   Bob| 35|Data Scientist|125000|\n",
            "+---+------+---+--------------+------+\n",
            "\n"
          ]
        }
      ]
    },
    {
      "cell_type": "code",
      "source": [
        "columns = [\"id\", \"name\", \"age\", \"role\", \"salary\"]\n",
        "df_csv = spark.read.csv(\"/content/employees_csv\", header=False, inferSchema=True).toDF(*columns)\n",
        "df_csv.show()"
      ],
      "metadata": {
        "colab": {
          "base_uri": "https://localhost:8080/"
        },
        "id": "L1rmhJ6WigRE",
        "outputId": "d0b396e0-8c7e-414e-e2b9-127cac57dad7"
      },
      "execution_count": 40,
      "outputs": [
        {
          "output_type": "stream",
          "name": "stdout",
          "text": [
            "+---+------+---+--------------+------+\n",
            "| id|  name|age|          role|salary|\n",
            "+---+------+---+--------------+------+\n",
            "|  3| Cathy| 29|  Data Analyst| 72000|\n",
            "|  4| David| 42|       Manager|150000|\n",
            "|  5|Evelyn| 30|   ML Engineer|115000|\n",
            "|  1| Alice| 28| Data Engineer| 85000|\n",
            "|  2|   Bob| 35|Data Scientist|125000|\n",
            "+---+------+---+--------------+------+\n",
            "\n"
          ]
        }
      ]
    },
    {
      "cell_type": "markdown",
      "source": [
        "`7. DATA ENGINEERING TASKS`"
      ],
      "metadata": {
        "id": "oS-ugsLrjtfP"
      }
    },
    {
      "cell_type": "markdown",
      "source": [
        "**a) Data Cleaning**"
      ],
      "metadata": {
        "id": "bEF11qfBj-8C"
      }
    },
    {
      "cell_type": "code",
      "source": [
        "# Example: Handling missing values\n",
        "data_with_null = [(1, \"Alice\", 28, None, 85000), (2, None, None, \"Data Scientist\", None)]\n",
        "schema2 = StructType([\n",
        "    StructField(\"id\", IntegerType(), True),\n",
        "    StructField(\"name\", StringType(), True),\n",
        "    StructField(\"age\", IntegerType(), True),\n",
        "    StructField(\"role\", StringType(), True),\n",
        "    StructField(\"salary\", IntegerType(), True)\n",
        "])\n",
        "\n",
        "df2 = spark.createDataFrame(data_with_null, schema=schema2)\n",
        "\n",
        "#fill null values\n",
        "df2.fillna({\"name\": \"Unknown\", \"age\": 0, \"salary\": 0, \"role\": \"Unassigned\"}).show()\n"
      ],
      "metadata": {
        "colab": {
          "base_uri": "https://localhost:8080/"
        },
        "id": "hejQA_kyj-AH",
        "outputId": "4b3bfc38-3465-4506-d55a-4705360b5def"
      },
      "execution_count": 41,
      "outputs": [
        {
          "output_type": "stream",
          "name": "stdout",
          "text": [
            "+---+-------+---+--------------+------+\n",
            "| id|   name|age|          role|salary|\n",
            "+---+-------+---+--------------+------+\n",
            "|  1|  Alice| 28|    Unassigned| 85000|\n",
            "|  2|Unknown|  0|Data Scientist|     0|\n",
            "+---+-------+---+--------------+------+\n",
            "\n"
          ]
        }
      ]
    },
    {
      "cell_type": "markdown",
      "source": [
        "**b) Data Transformation(ETL-style)**"
      ],
      "metadata": {
        "id": "kj7zpf7umNZA"
      }
    },
    {
      "cell_type": "markdown",
      "source": [
        "The round() function here is from pyspark.sql.functions.\n",
        "\n",
        "Syntax: round(column, scale)"
      ],
      "metadata": {
        "id": "iprsKjJNmAGe"
      }
    },
    {
      "cell_type": "code",
      "source": [
        "# Example transformation pipeline\n",
        "df_transformed = (\n",
        "    df.withColumn(\"salary_in_lakhs\", round(col(\"salary\") / 100000, 2))\n",
        "      .withColumn(\"seniority\", when(col(\"age\") > 35, \"Senior\").otherwise(\"Junior\"))\n",
        "      .select(\"name\", \"role\", \"salary_in_lakhs\", \"seniority\")\n",
        ")\n",
        "\n",
        "df_transformed.show()"
      ],
      "metadata": {
        "colab": {
          "base_uri": "https://localhost:8080/"
        },
        "id": "qnJXkC-3kl1U",
        "outputId": "b7937d03-cd5b-4364-f90e-15a122b2590b"
      },
      "execution_count": 42,
      "outputs": [
        {
          "output_type": "stream",
          "name": "stdout",
          "text": [
            "+------+--------------+---------------+---------+\n",
            "|  name|          role|salary_in_lakhs|seniority|\n",
            "+------+--------------+---------------+---------+\n",
            "| Alice| Data Engineer|           0.85|   Junior|\n",
            "|   Bob|Data Scientist|           1.25|   Junior|\n",
            "| Cathy|  Data Analyst|           0.72|   Junior|\n",
            "| David|       Manager|            1.5|   Senior|\n",
            "|Evelyn|   ML Engineer|           1.15|   Junior|\n",
            "+------+--------------+---------------+---------+\n",
            "\n"
          ]
        }
      ]
    },
    {
      "cell_type": "markdown",
      "source": [
        "`9. CONVERT TO PANDAS FOR VISUALIZATION`"
      ],
      "metadata": {
        "id": "ilZp29_gmj7-"
      }
    },
    {
      "cell_type": "code",
      "source": [
        "import pandas as pd\n",
        "import matplotlib.pyplot as plt\n",
        "\n",
        "pandas_df = df.toPandas()\n",
        "pandas_df.plot(x='name',y='salary',kind='bar',title='Employee Salaries')\n",
        "plt.show()"
      ],
      "metadata": {
        "colab": {
          "base_uri": "https://localhost:8080/",
          "height": 504
        },
        "id": "t0yLucTVkxZH",
        "outputId": "e118d2fe-abd7-4d84-e577-deaacec2ae40"
      },
      "execution_count": 43,
      "outputs": [
        {
          "output_type": "display_data",
          "data": {
            "text/plain": [
              "<Figure size 640x480 with 1 Axes>"
            ],
            "image/png": "[encoded data removed]"
          },
          "metadata": {}
        }
      ]
    },
    {
      "cell_type": "markdown",
      "source": [
        "`10. CLEAN EXIT`"
      ],
      "metadata": {
        "id": "IuyHFnDMn6KZ"
      }
    },
    {
      "cell_type": "code",
      "source": [
        "spark.stop()"
      ],
      "metadata": {
        "id": "4mpmCH65n361"
      },
      "execution_count": 44,
      "outputs": []
    },
    {
      "cell_type": "code",
      "source": [],
      "metadata": {
        "id": "FcD20ZUtoEia"
      },
      "execution_count": null,
      "outputs": []
    }
  ]
}