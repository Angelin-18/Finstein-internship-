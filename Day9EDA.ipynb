{
 "cells": [
  {
   "cell_type": "code",
   "execution_count": 26,
   "id": "be4d3f7b",
   "metadata": {},
   "outputs": [],
   "source": [
    "import pandas as pd\n",
    "df=pd.read_excel(\"USA Home Owners 2025.xlsx\")"
   ]
  },
  {
   "cell_type": "code",
   "execution_count": 56,
   "id": "43b1e3ed",
   "metadata": {},
   "outputs": [],
   "source": [
    "import pandas as pd"
   ]
  },
  {
   "cell_type": "code",
   "execution_count": 33,
   "id": "55dce7f9",
   "metadata": {},
   "outputs": [
    {
     "name": "stderr",
     "output_type": "stream",
     "text": [
      "C:\\Users\\george\\AppData\\Local\\Temp\\ipykernel_12364\\335740648.py:1: DtypeWarning: Columns (99,100,101,102,107) have mixed types. Specify dtype option on import or set low_memory=False.\n",
      "  df=pd.read_csv(\"USA_home_owners_2025.csv\",header=4)\n"
     ]
    }
   ],
   "source": [
    "df=pd.read_csv(\"USA_home_owners_2025.csv\",header=4)"
   ]
  },
  {
   "cell_type": "code",
   "execution_count": 46,
   "id": "22ac25e4",
   "metadata": {},
   "outputs": [
    {
     "data": {
      "text/html": [
       "<div>\n",
       "<style scoped>\n",
       "    .dataframe tbody tr th:only-of-type {\n",
       "        vertical-align: middle;\n",
       "    }\n",
       "\n",
       "    .dataframe tbody tr th {\n",
       "        vertical-align: top;\n",
       "    }\n",
       "\n",
       "    .dataframe thead th {\n",
       "        text-align: right;\n",
       "    }\n",
       "</style>\n",
       "<table border=\"1\" class=\"dataframe\">\n",
       "  <thead>\n",
       "    <tr style=\"text-align: right;\">\n",
       "      <th></th>\n",
       "      <th>Household_Member1</th>\n",
       "      <th>Address</th>\n",
       "      <th>City_State_Zip</th>\n",
       "      <th>Area_Code_and_Phone</th>\n",
       "      <th>Phone_Area_Code</th>\n",
       "      <th>Phone_Number_without_Area_Code</th>\n",
       "      <th>City</th>\n",
       "      <th>State</th>\n",
       "      <th>ZIP</th>\n",
       "      <th>ZIP_+_4</th>\n",
       "      <th>...</th>\n",
       "      <th>Mail_Order_Buyer20</th>\n",
       "      <th>Mail_Order_Buyer21</th>\n",
       "      <th>Mail_Order_Buyer22</th>\n",
       "      <th>Mail_Order_Buyer23</th>\n",
       "      <th>Mail_Order_Buyer24</th>\n",
       "      <th>Donor_Type1</th>\n",
       "      <th>Donor_Type2</th>\n",
       "      <th>Donor_Type3</th>\n",
       "      <th>Donor_Type4</th>\n",
       "      <th>Donor_Type5</th>\n",
       "    </tr>\n",
       "  </thead>\n",
       "  <tbody>\n",
       "    <tr>\n",
       "      <th>0</th>\n",
       "      <td>Kathleen K Gonzalez</td>\n",
       "      <td>641 Antoinette St</td>\n",
       "      <td>Deltona, FL  32725-2620</td>\n",
       "      <td>386-532-4524</td>\n",
       "      <td>386.0</td>\n",
       "      <td>532-4524</td>\n",
       "      <td>Deltona</td>\n",
       "      <td>FL</td>\n",
       "      <td>32725.0</td>\n",
       "      <td>32725-2620</td>\n",
       "      <td>...</td>\n",
       "      <td>NaN</td>\n",
       "      <td>NaN</td>\n",
       "      <td>NaN</td>\n",
       "      <td>NaN</td>\n",
       "      <td>NaN</td>\n",
       "      <td>NaN</td>\n",
       "      <td>NaN</td>\n",
       "      <td>NaN</td>\n",
       "      <td>NaN</td>\n",
       "      <td>NaN</td>\n",
       "    </tr>\n",
       "    <tr>\n",
       "      <th>1</th>\n",
       "      <td>Katia V Gonzalez</td>\n",
       "      <td>10729 SW 117th Pl</td>\n",
       "      <td>Miami, FL  33186-3944</td>\n",
       "      <td>305-270-0459</td>\n",
       "      <td>305.0</td>\n",
       "      <td>270-0459</td>\n",
       "      <td>Miami</td>\n",
       "      <td>FL</td>\n",
       "      <td>33186.0</td>\n",
       "      <td>33186-3944</td>\n",
       "      <td>...</td>\n",
       "      <td>NaN</td>\n",
       "      <td>NaN</td>\n",
       "      <td>NaN</td>\n",
       "      <td>NaN</td>\n",
       "      <td>NaN</td>\n",
       "      <td>NaN</td>\n",
       "      <td>NaN</td>\n",
       "      <td>NaN</td>\n",
       "      <td>NaN</td>\n",
       "      <td>NaN</td>\n",
       "    </tr>\n",
       "    <tr>\n",
       "      <th>2</th>\n",
       "      <td>Kevin Gonzalez</td>\n",
       "      <td>6221 NW 2nd St</td>\n",
       "      <td>Margate, FL  33063-5155</td>\n",
       "      <td>NaN</td>\n",
       "      <td>NaN</td>\n",
       "      <td>NaN</td>\n",
       "      <td>Margate</td>\n",
       "      <td>FL</td>\n",
       "      <td>33063.0</td>\n",
       "      <td>33063-5155</td>\n",
       "      <td>...</td>\n",
       "      <td>NaN</td>\n",
       "      <td>NaN</td>\n",
       "      <td>NaN</td>\n",
       "      <td>NaN</td>\n",
       "      <td>NaN</td>\n",
       "      <td>NaN</td>\n",
       "      <td>NaN</td>\n",
       "      <td>NaN</td>\n",
       "      <td>NaN</td>\n",
       "      <td>NaN</td>\n",
       "    </tr>\n",
       "    <tr>\n",
       "      <th>3</th>\n",
       "      <td>Lambert A Gonzalez Jr</td>\n",
       "      <td>310 N S St</td>\n",
       "      <td>Pensacola, FL  32505-7933</td>\n",
       "      <td>850-438-8894</td>\n",
       "      <td>850.0</td>\n",
       "      <td>438-8894</td>\n",
       "      <td>Pensacola</td>\n",
       "      <td>FL</td>\n",
       "      <td>32505.0</td>\n",
       "      <td>32505-7933</td>\n",
       "      <td>...</td>\n",
       "      <td>NaN</td>\n",
       "      <td>NaN</td>\n",
       "      <td>NaN</td>\n",
       "      <td>NaN</td>\n",
       "      <td>NaN</td>\n",
       "      <td>Any Donor</td>\n",
       "      <td>Environmental</td>\n",
       "      <td>NaN</td>\n",
       "      <td>NaN</td>\n",
       "      <td>NaN</td>\n",
       "    </tr>\n",
       "    <tr>\n",
       "      <th>4</th>\n",
       "      <td>Lana D Gonzalez</td>\n",
       "      <td>2419 W State St</td>\n",
       "      <td>Tampa, FL  33609-1744</td>\n",
       "      <td>NaN</td>\n",
       "      <td>NaN</td>\n",
       "      <td>NaN</td>\n",
       "      <td>Tampa</td>\n",
       "      <td>FL</td>\n",
       "      <td>33609.0</td>\n",
       "      <td>33609-1744</td>\n",
       "      <td>...</td>\n",
       "      <td>NaN</td>\n",
       "      <td>NaN</td>\n",
       "      <td>NaN</td>\n",
       "      <td>NaN</td>\n",
       "      <td>NaN</td>\n",
       "      <td>NaN</td>\n",
       "      <td>NaN</td>\n",
       "      <td>NaN</td>\n",
       "      <td>NaN</td>\n",
       "      <td>NaN</td>\n",
       "    </tr>\n",
       "  </tbody>\n",
       "</table>\n",
       "<p>5 rows × 108 columns</p>\n",
       "</div>"
      ],
      "text/plain": [
       "       Household_Member1            Address             City_State_Zip  \\\n",
       "0    Kathleen K Gonzalez  641 Antoinette St    Deltona, FL  32725-2620   \n",
       "1       Katia V Gonzalez  10729 SW 117th Pl      Miami, FL  33186-3944   \n",
       "2         Kevin Gonzalez     6221 NW 2nd St    Margate, FL  33063-5155   \n",
       "3  Lambert A Gonzalez Jr         310 N S St  Pensacola, FL  32505-7933   \n",
       "4        Lana D Gonzalez    2419 W State St      Tampa, FL  33609-1744   \n",
       "\n",
       "  Area_Code_and_Phone  Phone_Area_Code Phone_Number_without_Area_Code  \\\n",
       "0        386-532-4524            386.0                       532-4524   \n",
       "1        305-270-0459            305.0                       270-0459   \n",
       "2                 NaN              NaN                            NaN   \n",
       "3        850-438-8894            850.0                       438-8894   \n",
       "4                 NaN              NaN                            NaN   \n",
       "\n",
       "        City State      ZIP     ZIP_+_4  ... Mail_Order_Buyer20  \\\n",
       "0    Deltona    FL  32725.0  32725-2620  ...                NaN   \n",
       "1      Miami    FL  33186.0  33186-3944  ...                NaN   \n",
       "2    Margate    FL  33063.0  33063-5155  ...                NaN   \n",
       "3  Pensacola    FL  32505.0  32505-7933  ...                NaN   \n",
       "4      Tampa    FL  33609.0  33609-1744  ...                NaN   \n",
       "\n",
       "   Mail_Order_Buyer21 Mail_Order_Buyer22 Mail_Order_Buyer23  \\\n",
       "0                 NaN                NaN                NaN   \n",
       "1                 NaN                NaN                NaN   \n",
       "2                 NaN                NaN                NaN   \n",
       "3                 NaN                NaN                NaN   \n",
       "4                 NaN                NaN                NaN   \n",
       "\n",
       "  Mail_Order_Buyer24 Donor_Type1    Donor_Type2 Donor_Type3 Donor_Type4  \\\n",
       "0                NaN         NaN            NaN         NaN         NaN   \n",
       "1                NaN         NaN            NaN         NaN         NaN   \n",
       "2                NaN         NaN            NaN         NaN         NaN   \n",
       "3                NaN   Any Donor  Environmental         NaN         NaN   \n",
       "4                NaN         NaN            NaN         NaN         NaN   \n",
       "\n",
       "  Donor_Type5  \n",
       "0         NaN  \n",
       "1         NaN  \n",
       "2         NaN  \n",
       "3         NaN  \n",
       "4         NaN  \n",
       "\n",
       "[5 rows x 108 columns]"
      ]
     },
     "execution_count": 46,
     "metadata": {},
     "output_type": "execute_result"
    }
   ],
   "source": [
    "df.head()"
   ]
  },
  {
   "cell_type": "code",
   "execution_count": 37,
   "id": "43929c04",
   "metadata": {},
   "outputs": [
    {
     "data": {
      "text/plain": [
       "Index(['Household_Member1', 'Address', 'City_State_Zip', 'Area_Code_and_Phone',\n",
       "       'Phone_Area_Code', 'Phone_Number_without_Area_Code', 'City', 'State',\n",
       "       'ZIP', 'ZIP_+_4',\n",
       "       ...\n",
       "       'Mail_Order_Buyer20', 'Mail_Order_Buyer21', 'Mail_Order_Buyer22',\n",
       "       'Mail_Order_Buyer23', 'Mail_Order_Buyer24', 'Donor_Type1',\n",
       "       'Donor_Type2', 'Donor_Type3', 'Donor_Type4', 'Donor_Type5'],\n",
       "      dtype='object', length=108)"
      ]
     },
     "execution_count": 37,
     "metadata": {},
     "output_type": "execute_result"
    }
   ],
   "source": [
    "df.columns"
   ]
  },
  {
   "cell_type": "code",
   "execution_count": 39,
   "id": "a1d69be1",
   "metadata": {},
   "outputs": [
    {
     "data": {
      "text/plain": [
       "Household_Member1       object\n",
       "Address                 object\n",
       "City_State_Zip          object\n",
       "Area_Code_and_Phone     object\n",
       "Phone_Area_Code        float64\n",
       "                        ...   \n",
       "Donor_Type1             object\n",
       "Donor_Type2             object\n",
       "Donor_Type3             object\n",
       "Donor_Type4             object\n",
       "Donor_Type5             object\n",
       "Length: 108, dtype: object"
      ]
     },
     "execution_count": 39,
     "metadata": {},
     "output_type": "execute_result"
    }
   ],
   "source": [
    "df.dtypes"
   ]
  },
  {
   "cell_type": "markdown",
   "id": "bc7acab9",
   "metadata": {},
   "source": [
    "apply() runs function on each column\n",
    "\n",
    "x=one column\n",
    "\n"
   ]
  },
  {
   "cell_type": "code",
   "execution_count": 47,
   "id": "e66e8ff3",
   "metadata": {},
   "outputs": [
    {
     "data": {
      "text/plain": [
       "Household_Member1      [Kathleen K Gonzalez, Katia V Gonzalez, Kevin ...\n",
       "Address                [641 Antoinette St, 10729 SW 117th Pl, 6221 NW...\n",
       "City_State_Zip         [Deltona, FL  32725-2620, Miami, FL  33186-394...\n",
       "Area_Code_and_Phone    [386-532-4524, 305-270-0459, nan, 850-438-8894...\n",
       "Phone_Area_Code        [386.0, 305.0, nan, 850.0, 561.0, 941.0, 863.0...\n",
       "                                             ...                        \n",
       "Donor_Type1                                             [nan, Any Donor]\n",
       "Donor_Type2            [nan, Environmental, Religious, Health, Politi...\n",
       "Donor_Type3                          [nan, Religious, Health, Political]\n",
       "Donor_Type4                                  [nan, Religious, Political]\n",
       "Donor_Type5                                             [nan, Political]\n",
       "Length: 108, dtype: object"
      ]
     },
     "execution_count": 47,
     "metadata": {},
     "output_type": "execute_result"
    }
   ],
   "source": [
    "df.apply(lambda x: x.unique())\n"
   ]
  },
  {
   "cell_type": "code",
   "execution_count": 48,
   "id": "526d91c6",
   "metadata": {},
   "outputs": [
    {
     "data": {
      "text/plain": [
       "Household_Member1      235649\n",
       "Address                267351\n",
       "City_State_Zip         231938\n",
       "Area_Code_and_Phone    187305\n",
       "Phone_Area_Code            16\n",
       "                        ...  \n",
       "Donor_Type1                 1\n",
       "Donor_Type2                 4\n",
       "Donor_Type3                 3\n",
       "Donor_Type4                 2\n",
       "Donor_Type5                 1\n",
       "Length: 108, dtype: int64"
      ]
     },
     "execution_count": 48,
     "metadata": {},
     "output_type": "execute_result"
    }
   ],
   "source": [
    "df.nunique()"
   ]
  },
  {
   "cell_type": "code",
   "execution_count": 51,
   "id": "3fb7feb6",
   "metadata": {},
   "outputs": [
    {
     "data": {
      "text/plain": [
       "Household_Member1           1\n",
       "Address                 11971\n",
       "City_State_Zip              4\n",
       "Area_Code_and_Phone     94412\n",
       "Phone_Area_Code         94412\n",
       "                        ...  \n",
       "Donor_Type1            230859\n",
       "Donor_Type2            237079\n",
       "Donor_Type3            275319\n",
       "Donor_Type4            280153\n",
       "Donor_Type5            281660\n",
       "Length: 108, dtype: int64"
      ]
     },
     "execution_count": 51,
     "metadata": {},
     "output_type": "execute_result"
    }
   ],
   "source": [
    "df.isnull().sum()"
   ]
  },
  {
   "cell_type": "code",
   "execution_count": 54,
   "id": "54601dc4",
   "metadata": {},
   "outputs": [],
   "source": [
    "null_percentage = df.isnull().sum()/len(df)*100"
   ]
  },
  {
   "cell_type": "code",
   "execution_count": 55,
   "id": "cc05d575",
   "metadata": {},
   "outputs": [
    {
     "data": {
      "text/plain": [
       "Household_Member1       0.000355\n",
       "Address                 4.248078\n",
       "City_State_Zip          0.001419\n",
       "Area_Code_and_Phone    33.503432\n",
       "Phone_Area_Code        33.503432\n",
       "                         ...    \n",
       "Donor_Type1            81.923576\n",
       "Donor_Type2            84.130831\n",
       "Donor_Type3            97.700835\n",
       "Donor_Type4            99.416249\n",
       "Donor_Type5            99.951029\n",
       "Length: 108, dtype: float64"
      ]
     },
     "execution_count": 55,
     "metadata": {},
     "output_type": "execute_result"
    }
   ],
   "source": [
    "null_percentage"
   ]
  },
  {
   "cell_type": "code",
   "execution_count": null,
   "id": "ff635c0a",
   "metadata": {},
   "outputs": [],
   "source": []
  }
 ],
 "metadata": {
  "kernelspec": {
   "display_name": "base",
   "language": "python",
   "name": "python3"
  },
  "language_info": {
   "codemirror_mode": {
    "name": "ipython",
    "version": 3
   },
   "file_extension": ".py",
   "mimetype": "text/x-python",
   "name": "python",
   "nbconvert_exporter": "python",
   "pygments_lexer": "ipython3",
   "version": "3.12.7"
  }
 },
 "nbformat": 4,
 "nbformat_minor": 5
}
